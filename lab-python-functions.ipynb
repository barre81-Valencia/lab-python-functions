{
 "cells": [
  {
   "cell_type": "markdown",
   "id": "25d7736c-ba17-4aff-b6bb-66eba20fbf4e",
   "metadata": {},
   "source": [
    "# Lab | Functions"
   ]
  },
  {
   "cell_type": "markdown",
   "id": "0c581062-8967-4d93-b06e-62833222f930",
   "metadata": {
    "tags": []
   },
   "source": [
    "## Exercise: Managing Customer Orders with Functions\n",
    "\n",
    "In the previous exercise, you improved the code for managing customer orders by using loops and flow control. Now, let's take it a step further and refactor the code by introducing functions.\n",
    "\n",
    "Follow the steps below to complete the exercise:\n",
    "\n",
    "1. Define a function named `initialize_inventory` that takes `products` as a parameter. Inside the function, implement the code for initializing the inventory dictionary using a loop and user input.\n",
    "\n",
    "2. Define a function named `get_customer_orders` that takes no parameters. Inside the function, implement the code for prompting the user to enter the product names using a loop. The function should return the `customer_orders` set.\n",
    "\n",
    "3. Define a function named `update_inventory` that takes `customer_orders` and `inventory` as parameters. Inside the function, implement the code for updating the inventory dictionary based on the customer orders.\n",
    "\n",
    "4. Define a function named `calculate_order_statistics` that takes `customer_orders` and `products` as parameters. Inside the function, implement the code for calculating the order statistics (total products ordered, and percentage of unique products ordered). The function should return these values.\n",
    "\n",
    "5. Define a function named `print_order_statistics` that takes `order_statistics` as a parameter. Inside the function, implement the code for printing the order statistics.\n",
    "\n",
    "6. Define a function named `print_updated_inventory` that takes `inventory` as a parameter. Inside the function, implement the code for printing the updated inventory.\n",
    "\n",
    "7. Call the functions in the appropriate sequence to execute the program and manage customer orders.\n",
    "\n",
    "Hints for functions:\n",
    "\n",
    "- Consider the input parameters required for each function and their return values.\n",
    "- Utilize function parameters and return values to transfer data between functions.\n",
    "- Test your functions individually to ensure they work correctly.\n",
    "\n",
    "\n"
   ]
  },
  {
   "cell_type": "code",
   "execution_count": 4,
   "id": "1db7cf38",
   "metadata": {},
   "outputs": [],
   "source": [
    "# lista de productos\n",
    "\n",
    "products = [\"t-shirt\", \"mug\", \"hat\", \"book\", \"keychain\"]"
   ]
  },
  {
   "cell_type": "code",
   "execution_count": 31,
   "id": "28ca7706",
   "metadata": {},
   "outputs": [],
   "source": [
    "# Define a function named `initialize_inventory` that takes `products` as a parameter. Inside the function, implement the code for initializing the inventory dictionary using a loop and user input\n",
    "\n",
    "def initialize_inventory (products):  \n",
    "    inventory_init = {}\n",
    "    for product in products:\n",
    "        quant = int(input(f\"agregar la cantidad de {product}: \"))\n",
    "        inventory_init[product] = quant\n",
    "\n",
    "    return inventory_init"
   ]
  },
  {
   "cell_type": "code",
   "execution_count": 33,
   "id": "f20f9565",
   "metadata": {},
   "outputs": [],
   "source": [
    "inventory_init = initialize_inventory(products)\n",
    "# iniciar el inventario"
   ]
  },
  {
   "cell_type": "code",
   "execution_count": 34,
   "id": "732875f3",
   "metadata": {},
   "outputs": [
    {
     "name": "stdout",
     "output_type": "stream",
     "text": [
      "{'t-shirt': 50, 'mug': 45, 'hat': 50, 'book': 45, 'keychain': 30}\n"
     ]
    }
   ],
   "source": [
    "print(inventory_init)"
   ]
  },
  {
   "cell_type": "code",
   "execution_count": 25,
   "id": "cdb10da9",
   "metadata": {},
   "outputs": [],
   "source": [
    "def get_customer_orders ():\n",
    "    \n",
    "    customer_orders = set()\n",
    "    while True:\n",
    "        choice = input(\"select a product from the list: \")\n",
    "        customer_orders.add(choice)\n",
    "        seguir = input(\"Do you want another product? (y/n): \")\n",
    "        if seguir != \"y\":\n",
    "            break\n",
    "    \n",
    "    return customer_orders"
   ]
  },
  {
   "cell_type": "code",
   "execution_count": 26,
   "id": "a3299be2",
   "metadata": {},
   "outputs": [],
   "source": [
    "costumer_orders = get_customer_orders()"
   ]
  },
  {
   "cell_type": "code",
   "execution_count": 27,
   "id": "4e215533",
   "metadata": {},
   "outputs": [
    {
     "name": "stdout",
     "output_type": "stream",
     "text": [
      "{'mug', 'book', 'hat'}\n"
     ]
    }
   ],
   "source": [
    "print(costumer_orders)"
   ]
  },
  {
   "cell_type": "code",
   "execution_count": 35,
   "id": "43f7b208",
   "metadata": {},
   "outputs": [],
   "source": [
    "def update_inventory (costumer_orders, inventory):\n",
    "\n",
    "    for order in costumer_orders:\n",
    "        if order in inventory and inventory[order] > 0:\n",
    "            inventory[order] -= 1\n",
    "        else:\n",
    "            print(f\"Sorry, {order} is out of stock or not available.\")\n",
    "    return inventory\n"
   ]
  },
  {
   "cell_type": "code",
   "execution_count": 41,
   "id": "b649d1d6",
   "metadata": {},
   "outputs": [],
   "source": [
    "inventory = update_inventory (costumer_orders, inventory_init)  \n"
   ]
  },
  {
   "cell_type": "code",
   "execution_count": 71,
   "id": "c26a67a3",
   "metadata": {},
   "outputs": [],
   "source": [
    "def calculate_order_statistics (costumer_orders, products):\n",
    "    total_items_order = len(costumer_orders)\n",
    "    percentage_items_order = (total_items_order / len(products)) * 100\n",
    "   \n",
    "    return total_items_order, percentage_items_order"
   ]
  },
  {
   "cell_type": "code",
   "execution_count": 73,
   "id": "b3dcd8a6",
   "metadata": {},
   "outputs": [],
   "source": [
    "def print_order_statistics (order_statistics):\n",
    "    total_items_order, percentage_items_order = order_statistics\n",
    "    print(f\"total products ordered: {total_items_order}\")\n",
    "    print(f\"percentage of unique products ordered: {percentage_items_order:  }%\")"
   ]
  },
  {
   "cell_type": "code",
   "execution_count": 74,
   "id": "bdeea838",
   "metadata": {},
   "outputs": [],
   "source": [
    "def print_updated_inventory (update_inventory):\n",
    "    print(f\"the update inventory is: {inventory}\")"
   ]
  }
 ],
 "metadata": {
  "kernelspec": {
   "display_name": "Python 3",
   "language": "python",
   "name": "python3"
  },
  "language_info": {
   "codemirror_mode": {
    "name": "ipython",
    "version": 3
   },
   "file_extension": ".py",
   "mimetype": "text/x-python",
   "name": "python",
   "nbconvert_exporter": "python",
   "pygments_lexer": "ipython3",
   "version": "3.11.9"
  }
 },
 "nbformat": 4,
 "nbformat_minor": 5
}
